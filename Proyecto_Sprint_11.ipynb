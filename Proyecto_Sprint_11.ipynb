{
 "cells": [
  {
   "cell_type": "markdown",
   "metadata": {},
   "source": [
    "# 1. Introducción "
   ]
  },
  {
   "cell_type": "markdown",
   "metadata": {},
   "source": [
    "En una empresa emergente que se dedica a la venta de productos alimenticios, la investigación del comportamiento de los usuarios es crucial para optimizar el rendimiento y la satisfacción del cliente. Uno de los enfoques más eficaces para este propósito es el uso de pruebas A/A/B.\n",
    "\n",
    "En este tipo de pruebas, los usuarios se dividen en tres grupos: dos grupos de control (A/A) y un grupo de prueba (B). Los dos grupos de control reciben una versión idéntica del producto o la interfaz, mientras que el grupo de prueba recibe una versión modificada. Este diseño es particularmente útil para asegurar que las pruebas sean precisas y libres de distorsiones.\n",
    "\n",
    "Por ejemplo, si el equipo de diseño planea cambiar las fuentes de toda la aplicación, pero la gerencia teme que el nuevo diseño pueda ser intimidante para los usuarios, una prueba A/A/B permite medir el impacto de este cambio. Los grupos A actúan como referencia para validar la consistencia de los resultados. Si se detectan diferencias significativas entre los grupos A, esto indica posibles factores distorsionadores que deben ser investigados. Al mismo tiempo, la comparación entre los grupos de control y el grupo de prueba revela cuál conjunto de fuentes produce mejores resultados.\n",
    "\n",
    "El uso de dos grupos de control proporciona confianza en la exactitud de nuestras pruebas y ayuda a determinar la cantidad de tiempo y datos necesarios para futuros experimentos. En resumen, las pruebas A/A/B no solo son esenciales para la toma de decisiones informadas, sino que también aseguran la integridad y validez de los resultados en una empresa dinámica y en constante crecimiento.\n",
    "\n"
   ]
  },
  {
   "cell_type": "markdown",
   "metadata": {},
   "source": [
    "### 2. Abrir el archivo de datos y leer la información general"
   ]
  },
  {
   "cell_type": "code",
   "execution_count": 1,
   "metadata": {},
   "outputs": [],
   "source": [
    "# Importacion de librerias\n",
    "import pandas as pd\n",
    "import numpy as np\n",
    "import seaborn as sns\n",
    "from matplotlib import pyplot as plt\n",
    "from scipy import stats\n",
    "from numpy import median\n",
    "from pandas import pivot_table"
   ]
  },
  {
   "cell_type": "code",
   "execution_count": null,
   "metadata": {},
   "outputs": [],
   "source": [
    "# Lectura de los dataframes\n",
    "rest_data = pd.read_csv(\n",
    "    \"/datasets/logs_exp_us.csv\")\n",
    "\n",
    "#logs_exp_us = pd.read_csv(\n",
    "#    \"c:/Users/cary_/OneDrive/Escritorio/Data analyst/Sprint 11/logs_exp_us.csv\", sep='\\t')"
   ]
  },
  {
   "cell_type": "markdown",
   "metadata": {},
   "source": [
    "### 3. Preparar los datos para el análisis"
   ]
  },
  {
   "cell_type": "code",
   "execution_count": 3,
   "metadata": {},
   "outputs": [
    {
     "name": "stdout",
     "output_type": "stream",
     "text": [
      "<class 'pandas.core.frame.DataFrame'>\n",
      "RangeIndex: 244126 entries, 0 to 244125\n",
      "Data columns (total 4 columns):\n",
      " #   Column          Non-Null Count   Dtype \n",
      "---  ------          --------------   ----- \n",
      " 0   EventName       244126 non-null  object\n",
      " 1   DeviceIDHash    244126 non-null  int64 \n",
      " 2   EventTimestamp  244126 non-null  int64 \n",
      " 3   ExpId           244126 non-null  int64 \n",
      "dtypes: int64(3), object(1)\n",
      "memory usage: 7.5+ MB\n"
     ]
    }
   ],
   "source": [
    "#Obtener informacion del dataset\n",
    "logs_exp_us.info()"
   ]
  },
  {
   "cell_type": "code",
   "execution_count": 4,
   "metadata": {},
   "outputs": [],
   "source": [
    "# Renombrar columnas\n",
    "logs_exp_us = logs_exp_us.rename(columns={\n",
    "                                 'EventName': 'event_name', 'DeviceIDHash': 'device_id', 'EventTimestamp': 'event_timestamp', 'ExpId': 'exp_id'})\n",
    "\n",
    "# Convertir a tipo datetime la columna event_timestamp\n",
    "logs_exp_us['event_timestamp'] = pd.to_datetime(logs_exp_us['event_timestamp'], unit='s')\n",
    "\n",
    "# Agregar columa solo de fecha\n",
    "logs_exp_us['event_date'] = pd.to_datetime(logs_exp_us['event_timestamp'], format=\"%Y-%m-%d\")\n"
   ]
  },
  {
   "cell_type": "code",
   "execution_count": 5,
   "metadata": {},
   "outputs": [
    {
     "data": {
      "text/html": [
       "<div>\n",
       "<style scoped>\n",
       "    .dataframe tbody tr th:only-of-type {\n",
       "        vertical-align: middle;\n",
       "    }\n",
       "\n",
       "    .dataframe tbody tr th {\n",
       "        vertical-align: top;\n",
       "    }\n",
       "\n",
       "    .dataframe thead th {\n",
       "        text-align: right;\n",
       "    }\n",
       "</style>\n",
       "<table border=\"1\" class=\"dataframe\">\n",
       "  <thead>\n",
       "    <tr style=\"text-align: right;\">\n",
       "      <th></th>\n",
       "      <th>event_name</th>\n",
       "      <th>device_id</th>\n",
       "      <th>event_timestamp</th>\n",
       "      <th>exp_id</th>\n",
       "      <th>event_date</th>\n",
       "    </tr>\n",
       "  </thead>\n",
       "  <tbody>\n",
       "    <tr>\n",
       "      <th>0</th>\n",
       "      <td>MainScreenAppear</td>\n",
       "      <td>4575588528974610257</td>\n",
       "      <td>2019-07-25 04:43:36</td>\n",
       "      <td>246</td>\n",
       "      <td>2019-07-25 04:43:36</td>\n",
       "    </tr>\n",
       "    <tr>\n",
       "      <th>1</th>\n",
       "      <td>MainScreenAppear</td>\n",
       "      <td>7416695313311560658</td>\n",
       "      <td>2019-07-25 11:11:42</td>\n",
       "      <td>246</td>\n",
       "      <td>2019-07-25 11:11:42</td>\n",
       "    </tr>\n",
       "    <tr>\n",
       "      <th>2</th>\n",
       "      <td>PaymentScreenSuccessful</td>\n",
       "      <td>3518123091307005509</td>\n",
       "      <td>2019-07-25 11:28:47</td>\n",
       "      <td>248</td>\n",
       "      <td>2019-07-25 11:28:47</td>\n",
       "    </tr>\n",
       "    <tr>\n",
       "      <th>3</th>\n",
       "      <td>CartScreenAppear</td>\n",
       "      <td>3518123091307005509</td>\n",
       "      <td>2019-07-25 11:28:47</td>\n",
       "      <td>248</td>\n",
       "      <td>2019-07-25 11:28:47</td>\n",
       "    </tr>\n",
       "    <tr>\n",
       "      <th>4</th>\n",
       "      <td>PaymentScreenSuccessful</td>\n",
       "      <td>6217807653094995999</td>\n",
       "      <td>2019-07-25 11:48:42</td>\n",
       "      <td>248</td>\n",
       "      <td>2019-07-25 11:48:42</td>\n",
       "    </tr>\n",
       "    <tr>\n",
       "      <th>...</th>\n",
       "      <td>...</td>\n",
       "      <td>...</td>\n",
       "      <td>...</td>\n",
       "      <td>...</td>\n",
       "      <td>...</td>\n",
       "    </tr>\n",
       "    <tr>\n",
       "      <th>244121</th>\n",
       "      <td>MainScreenAppear</td>\n",
       "      <td>4599628364049201812</td>\n",
       "      <td>2019-08-07 21:12:25</td>\n",
       "      <td>247</td>\n",
       "      <td>2019-08-07 21:12:25</td>\n",
       "    </tr>\n",
       "    <tr>\n",
       "      <th>244122</th>\n",
       "      <td>MainScreenAppear</td>\n",
       "      <td>5849806612437486590</td>\n",
       "      <td>2019-08-07 21:13:59</td>\n",
       "      <td>246</td>\n",
       "      <td>2019-08-07 21:13:59</td>\n",
       "    </tr>\n",
       "    <tr>\n",
       "      <th>244123</th>\n",
       "      <td>MainScreenAppear</td>\n",
       "      <td>5746969938801999050</td>\n",
       "      <td>2019-08-07 21:14:43</td>\n",
       "      <td>246</td>\n",
       "      <td>2019-08-07 21:14:43</td>\n",
       "    </tr>\n",
       "    <tr>\n",
       "      <th>244124</th>\n",
       "      <td>MainScreenAppear</td>\n",
       "      <td>5746969938801999050</td>\n",
       "      <td>2019-08-07 21:14:58</td>\n",
       "      <td>246</td>\n",
       "      <td>2019-08-07 21:14:58</td>\n",
       "    </tr>\n",
       "    <tr>\n",
       "      <th>244125</th>\n",
       "      <td>OffersScreenAppear</td>\n",
       "      <td>5746969938801999050</td>\n",
       "      <td>2019-08-07 21:15:17</td>\n",
       "      <td>246</td>\n",
       "      <td>2019-08-07 21:15:17</td>\n",
       "    </tr>\n",
       "  </tbody>\n",
       "</table>\n",
       "<p>244126 rows × 5 columns</p>\n",
       "</div>"
      ],
      "text/plain": [
       "                     event_name            device_id     event_timestamp  \\\n",
       "0              MainScreenAppear  4575588528974610257 2019-07-25 04:43:36   \n",
       "1              MainScreenAppear  7416695313311560658 2019-07-25 11:11:42   \n",
       "2       PaymentScreenSuccessful  3518123091307005509 2019-07-25 11:28:47   \n",
       "3              CartScreenAppear  3518123091307005509 2019-07-25 11:28:47   \n",
       "4       PaymentScreenSuccessful  6217807653094995999 2019-07-25 11:48:42   \n",
       "...                         ...                  ...                 ...   \n",
       "244121         MainScreenAppear  4599628364049201812 2019-08-07 21:12:25   \n",
       "244122         MainScreenAppear  5849806612437486590 2019-08-07 21:13:59   \n",
       "244123         MainScreenAppear  5746969938801999050 2019-08-07 21:14:43   \n",
       "244124         MainScreenAppear  5746969938801999050 2019-08-07 21:14:58   \n",
       "244125       OffersScreenAppear  5746969938801999050 2019-08-07 21:15:17   \n",
       "\n",
       "        exp_id          event_date  \n",
       "0          246 2019-07-25 04:43:36  \n",
       "1          246 2019-07-25 11:11:42  \n",
       "2          248 2019-07-25 11:28:47  \n",
       "3          248 2019-07-25 11:28:47  \n",
       "4          248 2019-07-25 11:48:42  \n",
       "...        ...                 ...  \n",
       "244121     247 2019-08-07 21:12:25  \n",
       "244122     246 2019-08-07 21:13:59  \n",
       "244123     246 2019-08-07 21:14:43  \n",
       "244124     246 2019-08-07 21:14:58  \n",
       "244125     246 2019-08-07 21:15:17  \n",
       "\n",
       "[244126 rows x 5 columns]"
      ]
     },
     "execution_count": 5,
     "metadata": {},
     "output_type": "execute_result"
    }
   ],
   "source": [
    "# Se crea una funcion para bajar los tipos de datos\n",
    "def downcast_dtypes(df):\n",
    "    float_cols = df.select_dtypes(\"float\").columns\n",
    "    int_cols = df.select_dtypes(\"integer\").columns\n",
    "\n",
    "    df[float_cols] = df[float_cols].apply(pd.to_numeric, downcast=\"float\")\n",
    "    df[int_cols] = df[int_cols].apply(pd.to_numeric, downcast=\"integer\")\n",
    "\n",
    "    return df\n",
    "\n",
    "# Usar la funcion en el dataframe\n",
    "downcast_dtypes(logs_exp_us)"
   ]
  },
  {
   "cell_type": "code",
   "execution_count": 6,
   "metadata": {},
   "outputs": [
    {
     "name": "stdout",
     "output_type": "stream",
     "text": [
      "Duplicados totales para logs_exp_us:  413\n",
      "\n",
      "Valores nulos totales para logs_exp_us:  0\n"
     ]
    }
   ],
   "source": [
    "# Revisar si existe algún valor duplicado\n",
    "print('Duplicados totales para logs_exp_us: ', logs_exp_us.duplicated().sum())\n",
    "\n",
    "# Revisar si existe algún valor nulo\n",
    "print('\\nValores nulos totales para logs_exp_us: ', logs_exp_us.isnull().sum().sum())\n",
    "\n",
    "# Eliminar valores duplicados\n",
    "logs_exp_us = logs_exp_us.drop_duplicates()"
   ]
  },
  {
   "cell_type": "markdown",
   "metadata": {},
   "source": [
    "### 4. Estudiar y comprobar los datos"
   ]
  },
  {
   "cell_type": "markdown",
   "metadata": {},
   "source": [
    "##### 4.1 ¿Cuántos eventos hay en los registros?"
   ]
  },
  {
   "cell_type": "code",
   "execution_count": 7,
   "metadata": {},
   "outputs": [
    {
     "name": "stdout",
     "output_type": "stream",
     "text": [
      "Número de eventos en el registro: 5\n"
     ]
    }
   ],
   "source": [
    "# Contar total de eventos en el dataframe\n",
    "print('Número de eventos en el registro:', logs_exp_us['event_name'].nunique())"
   ]
  },
  {
   "cell_type": "markdown",
   "metadata": {},
   "source": [
    "##### 4.2 ¿Cuántos usuarios y usuarias hay en los registros?"
   ]
  },
  {
   "cell_type": "code",
   "execution_count": 8,
   "metadata": {},
   "outputs": [
    {
     "name": "stdout",
     "output_type": "stream",
     "text": [
      "Total de usuarios y usuarias en el registro: 7551\n"
     ]
    }
   ],
   "source": [
    "# Contar total de usuarios en el registro \n",
    "print('Total de usuarios y usuarias en el registro:', logs_exp_us['device_id'].nunique())"
   ]
  },
  {
   "cell_type": "markdown",
   "metadata": {},
   "source": [
    "##### 4.3 ¿Qué periodo de tiempo cubren los datos? Encuentra la fecha máxima y mínima. Traza un histograma por fecha y hora. ¿Puedes tener seguridad de que tienes datos igualmente completos para todo el periodo? Los eventos más antiguos podrían terminar en los registros de algunos usuarios o usuarias por razones técnicas y esto podría sesgar el panorama general. Encuentra el momento en el que los datos comienzan a estar completos e ignora la sección anterior. ¿Qué periodo representan realmente los datos?"
   ]
  },
  {
   "cell_type": "code",
   "execution_count": 9,
   "metadata": {},
   "outputs": [
    {
     "name": "stdout",
     "output_type": "stream",
     "text": [
      "Fecha mínima: 2019-08-01 00:07:28 Fecha máxima:  2019-08-07 21:15:17\n"
     ]
    },
    {
     "data": {
      "text/plain": [
       "(array([18109., 18110., 18111., 18112., 18113., 18114., 18115., 18116.]),\n",
       " [Text(18109.0, 0, '2019-08-01'),\n",
       "  Text(18110.0, 0, '2019-08-02'),\n",
       "  Text(18111.0, 0, '2019-08-03'),\n",
       "  Text(18112.0, 0, '2019-08-04'),\n",
       "  Text(18113.0, 0, '2019-08-05'),\n",
       "  Text(18114.0, 0, '2019-08-06'),\n",
       "  Text(18115.0, 0, '2019-08-07'),\n",
       "  Text(18116.0, 0, '2019-08-08')])"
      ]
     },
     "execution_count": 9,
     "metadata": {},
     "output_type": "execute_result"
    },
    {
     "data": {
      "image/png": "[encoded data removed]",
      "text/plain": [
       "<Figure size 640x480 with 1 Axes>"
      ]
     },
     "metadata": {},
     "output_type": "display_data"
    }
   ],
   "source": [
    "# Agrupar fechas para encontrar a partir de cuando estan completos lod datos\n",
    "date_counts = logs_exp_us['event_timestamp'].groupby(logs_exp_us['event_timestamp'].dt.date).count()\n",
    "\n",
    "# Filtar los datos a partir de que la informacion esta completa\n",
    "date_filtered = logs_exp_us[logs_exp_us['event_timestamp'] >= '2019-08-01']\n",
    "\n",
    "# Imprimir fecha máxima y mínima de las fechas filtradas\n",
    "print(f'Fecha mínima:', date_filtered['event_timestamp'].min(), 'Fecha máxima: ', date_filtered['event_timestamp'].max()) \n",
    "\n",
    "# Crear histograma de la información filtrada\n",
    "sns.histplot(data=date_filtered, x='event_timestamp', log_scale=True)\n",
    "\n",
    "# Girar las etiquetas del eje x 45 grados\n",
    "plt.xticks(rotation=45)"
   ]
  },
  {
   "cell_type": "markdown",
   "metadata": {},
   "source": [
    "El histograma muestra la distribución de los datos por fecha, indicando la cantidad de eventos registrados cada día dentro del periodo cubierto.\n",
    "Este análisis muestra que, aunque los datos iniciales abarcan una semana, es crucial identificar y trabajar solo con los periodos donde la recolección de datos fue consistente. Esto asegura la fiabilidad del análisis y evita sesgos debido a registros incompletos."
   ]
  },
  {
   "cell_type": "markdown",
   "metadata": {},
   "source": [
    "##### 4.4 ¿Perdiste muchos eventos y usuarios al excluir los datos más antiguos?"
   ]
  },
  {
   "cell_type": "code",
   "execution_count": 10,
   "metadata": {},
   "outputs": [
    {
     "name": "stdout",
     "output_type": "stream",
     "text": [
      "Eventos originales: 243713, Usuarios originales: 7551\n",
      "Eventos filtrados: 240887, Usuarios filtrados: 7534\n",
      "Eventos perdidos: 2826, Usuarios perdidos: 17\n"
     ]
    }
   ],
   "source": [
    "# Numero de eventos dataset original \n",
    "num_events_original = logs_exp_us.shape[0]\n",
    "\n",
    "# Numero de usuarios dataset original \n",
    "num_users_original = logs_exp_us['device_id'].nunique()\n",
    "\n",
    "# Filtar los datos mas recientes\n",
    "date_filtered = logs_exp_us[logs_exp_us['event_timestamp'] >= '2019-08-01']\n",
    "\n",
    "# Numero de eventos dataset filtrado\n",
    "num_events_filtered = date_filtered.shape[0]\n",
    "\n",
    "# Numero de usuarios dataset filtrado\n",
    "num_users_filtered = date_filtered['device_id'].nunique()\n",
    "\n",
    "# Calular diferencia de eventos \n",
    "events_lost = num_events_original - num_events_filtered\n",
    "\n",
    "# Calular diferencia de usuarios \n",
    "users_lost = num_users_original - num_users_filtered\n",
    "\n",
    "# Impresion de resultados\n",
    "print(f'Eventos originales: {num_events_original}, Usuarios originales: {num_users_original}')\n",
    "print(f'Eventos filtrados: {num_events_filtered}, Usuarios filtrados: {num_users_filtered}')\n",
    "print(f'Eventos perdidos: {events_lost}, Usuarios perdidos: {users_lost}')"
   ]
  },
  {
   "cell_type": "markdown",
   "metadata": {},
   "source": [
    "El análisis inicial mostró un total de 243,713 eventos y 7,551 usuarios. Después de filtrar los datos inconsistentes o incompletos, los números se redujeron a 240,887 eventos y 7,534 usuarios. Se perdieron 2,826 eventos y 17 usuarios en el proceso de filtrado. Aunque parece una pérdida pequeña en términos absolutos, es importante asegurar que estos eventos y usuarios eliminados no afecten significativamente la integridad del análisis.La pérdida de eventos y usuarios puede indicar la necesidad de examinar la calidad y consistencia de los datos recogidos."
   ]
  },
  {
   "cell_type": "markdown",
   "metadata": {},
   "source": [
    "##### 4.5 Asegúrate de tener usuarios y usuarias de los tres grupos experimentales."
   ]
  },
  {
   "cell_type": "code",
   "execution_count": 11,
   "metadata": {},
   "outputs": [
    {
     "data": {
      "text/plain": [
       "Text(0.5, 1.0, 'Número de usuarios por grupo')"
      ]
     },
     "execution_count": 11,
     "metadata": {},
     "output_type": "execute_result"
    },
    {
     "data": {
      "image/png": "[encoded data removed]",
      "text/plain": [
       "<Figure size 640x480 with 1 Axes>"
      ]
     },
     "metadata": {},
     "output_type": "display_data"
    }
   ],
   "source": [
    "# Revisar la presencia de usuarios por grupo \n",
    "group_users = logs_exp_us['exp_id'].value_counts().reset_index()\n",
    "\n",
    "# Se crea la grafica\n",
    "ax = sns.barplot(x='exp_id', y='count', data=group_users)\n",
    "\n",
    "# Se agrega un titulo\n",
    "ax.set_title(\"Número de usuarios por grupo\")\n"
   ]
  },
  {
   "cell_type": "markdown",
   "metadata": {},
   "source": [
    "Se puede observar que el grupo 248 tiene la mayor cantidad de usuarios, seguido por el grupo 246 y finalmente el grupo 247. Aunque hay una diferencia en el número de usuarios entre los grupos, estas variaciones deben ser evaluadas para entender si pueden influir en los resultados del análisis."
   ]
  },
  {
   "cell_type": "markdown",
   "metadata": {},
   "source": [
    "### 5. Estudiar el embudo de eventos"
   ]
  },
  {
   "cell_type": "markdown",
   "metadata": {},
   "source": [
    "##### 5.1 Observa qué eventos hay en los registros y su frecuencia de suceso. Ordénalos por frecuencia."
   ]
  },
  {
   "cell_type": "code",
   "execution_count": 12,
   "metadata": {},
   "outputs": [
    {
     "data": {
      "text/plain": [
       "([0, 1, 2, 3, 4],\n",
       " [Text(0, 0, 'MainScreenAppear'),\n",
       "  Text(1, 0, 'OffersScreenAppear'),\n",
       "  Text(2, 0, 'CartScreenAppear'),\n",
       "  Text(3, 0, 'PaymentScreenSuccessful'),\n",
       "  Text(4, 0, 'Tutorial')])"
      ]
     },
     "execution_count": 12,
     "metadata": {},
     "output_type": "execute_result"
    },
    {
     "data": {
      "image/png": "[encoded data removed]",
      "text/plain": [
       "<Figure size 640x480 with 1 Axes>"
      ]
     },
     "metadata": {},
     "output_type": "display_data"
    }
   ],
   "source": [
    "# Contar la fecuencia de los eventos\n",
    "events_count = logs_exp_us['event_name'].value_counts().reset_index().sort_values(by='count', ascending=False)\n",
    "\n",
    "# Se crea la grafica\n",
    "ax = sns.barplot(x='event_name', y='count', data=events_count)\n",
    "\n",
    "# Se agrega un titulo\n",
    "ax.set_title(\"Frecuencia de los eventos\")\n",
    "\n",
    "# Se rotan las etiquetas del eje x\n",
    "plt.xticks(rotation=90)"
   ]
  },
  {
   "cell_type": "markdown",
   "metadata": {},
   "source": [
    "MainScreenAppear es el evento más frecuente, lo que indica que la mayoría de los usuarios interactúan con la pantalla principal de la aplicación. \n",
    "\n",
    "Ofertas y Carrito: Una parte significativa de los usuarios (4,613) explora las ofertas disponibles, pero este número disminuye cuando se trata de agregar productos al carrito (3,749). Esto sugiere un posible punto de mejora para convertir el interés en ofertas en acciones de compra.\n",
    "\n",
    "Conversión a Pago: La transición desde el carrito hasta la compra exitosa se mantiene relativamente alta (3,547), lo que indica que una vez que los usuarios agregan productos al carrito, hay una buena tasa de conversión a compras efectivas.\n",
    "\n",
    "Interacción con Tutoriales:El evento Tutorial tiene la menor cantidad de usuarios (847), lo que podría implicar que la aplicación es intuitiva para la mayoría o que los tutoriales no están siendo descubiertos/utilizados."
   ]
  },
  {
   "cell_type": "code",
   "execution_count": 30,
   "metadata": {},
   "outputs": [
    {
     "data": {
      "text/html": [
       "<div>\n",
       "<style scoped>\n",
       "    .dataframe tbody tr th:only-of-type {\n",
       "        vertical-align: middle;\n",
       "    }\n",
       "\n",
       "    .dataframe tbody tr th {\n",
       "        vertical-align: top;\n",
       "    }\n",
       "\n",
       "    .dataframe thead th {\n",
       "        text-align: right;\n",
       "    }\n",
       "</style>\n",
       "<table border=\"1\" class=\"dataframe\">\n",
       "  <thead>\n",
       "    <tr style=\"text-align: right;\">\n",
       "      <th></th>\n",
       "      <th>event_name</th>\n",
       "      <th>device_id</th>\n",
       "    </tr>\n",
       "  </thead>\n",
       "  <tbody>\n",
       "    <tr>\n",
       "      <th>0</th>\n",
       "      <td>MainScreenAppear</td>\n",
       "      <td>7439</td>\n",
       "    </tr>\n",
       "    <tr>\n",
       "      <th>1</th>\n",
       "      <td>OffersScreenAppear</td>\n",
       "      <td>4613</td>\n",
       "    </tr>\n",
       "    <tr>\n",
       "      <th>2</th>\n",
       "      <td>CartScreenAppear</td>\n",
       "      <td>3749</td>\n",
       "    </tr>\n",
       "    <tr>\n",
       "      <th>3</th>\n",
       "      <td>PaymentScreenSuccessful</td>\n",
       "      <td>3547</td>\n",
       "    </tr>\n",
       "    <tr>\n",
       "      <th>4</th>\n",
       "      <td>Tutorial</td>\n",
       "      <td>847</td>\n",
       "    </tr>\n",
       "  </tbody>\n",
       "</table>\n",
       "</div>"
      ],
      "text/plain": [
       "                event_name  device_id\n",
       "0         MainScreenAppear       7439\n",
       "1       OffersScreenAppear       4613\n",
       "2         CartScreenAppear       3749\n",
       "3  PaymentScreenSuccessful       3547\n",
       "4                 Tutorial        847"
      ]
     },
     "execution_count": 30,
     "metadata": {},
     "output_type": "execute_result"
    }
   ],
   "source": [
    "events_count"
   ]
  },
  {
   "cell_type": "markdown",
   "metadata": {},
   "source": [
    "##### 5.2 Encuentra la cantidad de usuarios y usuarias que realizaron cada una de estas acciones. Ordena los eventos por el número de usuarios y usuarias. Calcula la proporción de usuarios y usuarias que realizaron la acción al menos una vez."
   ]
  },
  {
   "cell_type": "code",
   "execution_count": 13,
   "metadata": {},
   "outputs": [
    {
     "data": {
      "image/png": "[encoded data removed]",
      "text/plain": [
       "<Figure size 640x480 with 1 Axes>"
      ]
     },
     "metadata": {},
     "output_type": "display_data"
    }
   ],
   "source": [
    "# Contar y ordenar la cantidad total de usuarios por cada evento\n",
    "users_count_total = logs_exp_us.groupby('event_name')['device_id'].count().reset_index().sort_values(by='device_id', ascending=False)\n",
    "\n",
    "# Contar y ordenar la cantidad de usuarios únicos por cada evento\n",
    "users_count_unique = logs_exp_us.groupby('event_name')['device_id'].nunique().reset_index().sort_values(by='device_id', ascending=False)\n",
    "\n",
    "# Calculo de la proporcion de usuarios que realizaron la accion al menos una vez\n",
    "proportion = users_count_unique['device_id'] / users_count_total['device_id']\n",
    "\n",
    "# Se almancenan en variables los valores de las proporciones y los nombres de los eventos\n",
    "keys = ['MainScreenAppear', 'OffersScreenAppear', 'CartScreenAppear', 'PaymentScreenSuccessful', 'Tutorial']\n",
    "vals = proportion\n",
    "\n",
    "# Se crea el grafico de barras de las proporciones de los eventos\n",
    "plt.bar(keys, vals)\n",
    "\n",
    "# Se agrega un titulo\n",
    "plt.title('Proporción de cada tipo de evento')\n",
    "\n",
    "# Se rotan las etiquetas del eje x\n",
    "plt.xticks(rotation=90)\n",
    "\n",
    "# Se muestra la garfica\n",
    "plt.show()\n"
   ]
  },
  {
   "cell_type": "code",
   "execution_count": null,
   "metadata": {},
   "outputs": [
    {
     "data": {
      "text/plain": [
       "1    0.062460\n",
       "2    0.098552\n",
       "0    0.087864\n",
       "3    0.103963\n",
       "4    0.832024\n",
       "Name: device_id, dtype: float64"
      ]
     },
     "execution_count": 31,
     "metadata": {},
     "output_type": "execute_result"
    }
   ],
   "source": [
    "proportion\n",
    "1    0.062460\n",
    "2    0.098552\n",
    "0    0.087864\n",
    "3    0.103963\n",
    "4    0.832024"
   ]
  },
  {
   "cell_type": "markdown",
   "metadata": {},
   "source": [
    "La mayoría de los usuarios (83.20%) interactúan con el evento Tutorial, lo que destaca su importancia en el flujo de la aplicación. Los eventos Offerscreen Cartscreeen y Paymentscreen tienen proporciones similares y moderadas, señalando que son parte del uso regular de la aplicación. El Mainscreen, con la menor proporción, sugiere una funcionalidad menos utilizada o una acción secundaria."
   ]
  },
  {
   "cell_type": "markdown",
   "metadata": {},
   "source": [
    "##### 5.3 ¿En qué orden crees que ocurrieron las acciones? ¿Todas son parte de una sola secuencia? No es necesario tenerlas en cuenta al calcular el embudo."
   ]
  },
  {
   "cell_type": "code",
   "execution_count": 14,
   "metadata": {},
   "outputs": [
    {
     "data": {
      "text/plain": [
       "([0, 1, 2, 3, 4],\n",
       " [Text(0, 0, 'MainScreenAppear'),\n",
       "  Text(1, 0, 'OffersScreenAppear'),\n",
       "  Text(2, 0, 'CartScreenAppear'),\n",
       "  Text(3, 0, 'PaymentScreenSuccessful'),\n",
       "  Text(4, 0, 'Tutorial')])"
      ]
     },
     "execution_count": 14,
     "metadata": {},
     "output_type": "execute_result"
    },
    {
     "data": {
      "image/png": "[encoded data removed]",
      "text/plain": [
       "<Figure size 640x480 with 1 Axes>"
      ]
     },
     "metadata": {},
     "output_type": "display_data"
    }
   ],
   "source": [
    "# Agrupar datos por cantidad de usuarios en cada evento \n",
    "events_count = logs_exp_us.groupby('event_name').agg({'device_id': 'nunique'}).sort_values(by='device_id', ascending=False).reset_index()\n",
    "\n",
    "# Se crea la grafica\n",
    "ax = sns.barplot(x='event_name', y='device_id', data=events_count)\n",
    "\n",
    "# Se agrega un titulo\n",
    "ax.set_title(\"Embudo de los eventos\")\n",
    "\n",
    "# Se rotan las etiquetas del eje x\n",
    "plt.xticks(rotation=90)"
   ]
  },
  {
   "cell_type": "code",
   "execution_count": 32,
   "metadata": {},
   "outputs": [
    {
     "data": {
      "text/html": [
       "<div>\n",
       "<style scoped>\n",
       "    .dataframe tbody tr th:only-of-type {\n",
       "        vertical-align: middle;\n",
       "    }\n",
       "\n",
       "    .dataframe tbody tr th {\n",
       "        vertical-align: top;\n",
       "    }\n",
       "\n",
       "    .dataframe thead th {\n",
       "        text-align: right;\n",
       "    }\n",
       "</style>\n",
       "<table border=\"1\" class=\"dataframe\">\n",
       "  <thead>\n",
       "    <tr style=\"text-align: right;\">\n",
       "      <th></th>\n",
       "      <th>event_name</th>\n",
       "      <th>device_id</th>\n",
       "    </tr>\n",
       "  </thead>\n",
       "  <tbody>\n",
       "    <tr>\n",
       "      <th>0</th>\n",
       "      <td>MainScreenAppear</td>\n",
       "      <td>7439</td>\n",
       "    </tr>\n",
       "    <tr>\n",
       "      <th>1</th>\n",
       "      <td>OffersScreenAppear</td>\n",
       "      <td>4613</td>\n",
       "    </tr>\n",
       "    <tr>\n",
       "      <th>2</th>\n",
       "      <td>CartScreenAppear</td>\n",
       "      <td>3749</td>\n",
       "    </tr>\n",
       "    <tr>\n",
       "      <th>3</th>\n",
       "      <td>PaymentScreenSuccessful</td>\n",
       "      <td>3547</td>\n",
       "    </tr>\n",
       "    <tr>\n",
       "      <th>4</th>\n",
       "      <td>Tutorial</td>\n",
       "      <td>847</td>\n",
       "    </tr>\n",
       "  </tbody>\n",
       "</table>\n",
       "</div>"
      ],
      "text/plain": [
       "                event_name  device_id\n",
       "0         MainScreenAppear       7439\n",
       "1       OffersScreenAppear       4613\n",
       "2         CartScreenAppear       3749\n",
       "3  PaymentScreenSuccessful       3547\n",
       "4                 Tutorial        847"
      ]
     },
     "execution_count": 32,
     "metadata": {},
     "output_type": "execute_result"
    }
   ],
   "source": [
    "events_count"
   ]
  },
  {
   "cell_type": "markdown",
   "metadata": {},
   "source": [
    "El embudo de eventos muestra puntos clave donde los usuarios dejan el proceso: entre la pantalla principal y la exploración de ofertas, y luego al agregar productos al carrito. Mejora en estas etapas podría aumentar significativamente las conversiones. Además, fomentar el uso del tutorial podría mejorar la experiencia de usuario, especialmente para nuevos usuarios, haciendo que el flujo completo sea más fluido y eficiente."
   ]
  },
  {
   "cell_type": "markdown",
   "metadata": {},
   "source": [
    "##### 5.4 Utiliza el embudo de eventos para encontrar la proporción de usuarios y usuarias que pasan de una etapa a la siguiente. (Por ejemplo, para la secuencia de eventos A → B → C, calcula la proporción de usuarios en la etapa B a la cantidad de usuarios en la etapa A y la proporción de usuarios en la etapa C a la cantidad en la etapa B)."
   ]
  },
  {
   "cell_type": "code",
   "execution_count": 15,
   "metadata": {},
   "outputs": [
    {
     "name": "stdout",
     "output_type": "stream",
     "text": [
      "Visitantes: 7439\n",
      "Ofertas: 4067\n",
      "Carrito: 1611\n",
      "Pagado: 448\n",
      "Tutorial: 0\n"
     ]
    }
   ],
   "source": [
    "# Para cada usuario, busca la hora del primer suceso de cada evento\n",
    "users = logs_exp_us.pivot_table(\n",
    "    index='device_id', \n",
    "    columns='event_name', \n",
    "    values='event_timestamp',\n",
    "    aggfunc='min')\n",
    "\n",
    "# Número de filas en la tabla users para las cuales la columna MainScreenAppear contiene valores no vacíos.\n",
    "step_1 = ~users['MainScreenAppear'].isna()\n",
    "\n",
    "# Número de usuarios que accedieron al sitio y vieron las ofertas\n",
    "step_2 = step_1 & (users['OffersScreenAppear'] > users['MainScreenAppear'])\n",
    "\n",
    "# Número de usuarios que accedieron al agregaron al carrito y vieron las ofertas\n",
    "step_3 = step_2 & (users['CartScreenAppear'] > users['OffersScreenAppear'])\n",
    "\n",
    "# Número de usuarios que accedieron al agregaron al carrito y pagaron\n",
    "step_4 = step_3 & (users['PaymentScreenSuccessful'] > users['CartScreenAppear'])\n",
    "\n",
    "# Número de usuarios que pagaron y vieron el tutorial\n",
    "step_5 = step_4 & (users['Tutorial'] > users['PaymentScreenSuccessful'])\n",
    "\n",
    "# Calulo del total de usuarios de cada evento \n",
    "n_main = users[step_1].shape[0]\n",
    "n_offer = users[step_2].shape[0]\n",
    "n_cart = users[step_3].shape[0]\n",
    "n_payment = users[step_4].shape[0]\n",
    "n_tutorial = users[step_5].shape[0]\n",
    "\n",
    "# Impresion de resultados de total de usuarios por evento\n",
    "print('Visitantes:', n_main)\n",
    "print('Ofertas:', n_offer)\n",
    "print('Carrito:', n_cart)\n",
    "print('Pagado:', n_payment)\n",
    "print('Tutorial:', n_tutorial)"
   ]
  },
  {
   "cell_type": "code",
   "execution_count": 16,
   "metadata": {},
   "outputs": [
    {
     "name": "stdout",
     "output_type": "stream",
     "text": [
      "Vieron pantalla principal: 7439 usuarios (98.52% del total)\n",
      "Vieron ofertas: 4613 usuarios (62.01% del total)\n",
      "Agregaron al carrito: 3749 usuarios (81.27% del total)\n",
      "Pagaron: 3547 usuarios (94.61% del total)\n",
      "Vieron tutorial: 847 usuarios (23.88% del total)\n"
     ]
    }
   ],
   "source": [
    "# Para cada usuario, busca la hora del primer suceso de cada evento\n",
    "primeros_eventos_por_usuario = logs_exp_us.pivot_table(\n",
    "    index='device_id', \n",
    "    columns='event_name', \n",
    "    values='event_timestamp', \n",
    "    aggfunc='min'\n",
    ")\n",
    "\n",
    "# Definir pasos\n",
    "pasos = [\n",
    "    ('MainScreenAppear', 'Vieron pantalla principal'),\n",
    "    ('OffersScreenAppear', 'Vieron ofertas'),\n",
    "    ('CartScreenAppear', 'Agregaron al carrito'),\n",
    "    ('PaymentScreenSuccessful', 'Pagaron'),\n",
    "    ('Tutorial', 'Vieron tutorial')\n",
    "]\n",
    "\n",
    "\n",
    "# Función para calcular número de usuarios en cada paso\n",
    "def calcular_usuarios_en_paso(primeros_eventos, paso_actual, paso_anterior=None):\n",
    "    if paso_anterior:\n",
    "        return ~primeros_eventos[paso_actual].isna() & (primeros_eventos[paso_actual] > primeros_eventos[paso_anterior])\n",
    "    else:\n",
    "        return ~primeros_eventos[paso_actual].isna()\n",
    "\n",
    "# Calcular número de usuarios en cada paso\n",
    "num_usuarios_por_paso = []\n",
    "proporciones = []\n",
    "for i, (paso, descripcion, *paso_anterior) in enumerate(pasos):\n",
    "    usuarios_en_paso = calcular_usuarios_en_paso(primeros_eventos_por_usuario, paso, *paso_anterior)\n",
    "    num_usuarios_por_paso.append(usuarios_en_paso.sum())\n",
    "    \n",
    "    # Calcular proporción\n",
    "    if i == 0:\n",
    "        proporciones.append(usuarios_en_paso.sum() / primeros_eventos_por_usuario.shape[0])\n",
    "    else:\n",
    "        proporciones.append(usuarios_en_paso.sum() / num_usuarios_por_paso[i-1])\n",
    "\n",
    "# Impresión de resultados\n",
    "for i, (paso, descripcion) in enumerate(pasos):\n",
    "    print(f'{descripcion}: {num_usuarios_por_paso[i]} usuarios ({proporciones[i]*100:.2f}% del total)')\n"
   ]
  },
  {
   "cell_type": "markdown",
   "metadata": {},
   "source": [
    "El embudo de eventos revela puntos críticos y oportunidades de mejora. La principal caída ocurre entre la pantalla principal y la visualización de ofertas, lo que sugiere que mejorar la navegación o la presentación de ofertas podría incrementar el número de usuarios que pasan a la siguiente fase del embudo. La alta tasa de conversión de carrito a pago es un punto fuerte, indicando que el proceso de compra es eficiente y efectivo. Mejorar la accesibilidad y visibilidad de los tutoriales podría beneficiar especialmente a los nuevos usuarios, proporcionando una mejor experiencia general."
   ]
  },
  {
   "cell_type": "markdown",
   "metadata": {},
   "source": [
    "##### 5.5 ¿En qué etapa pierdes más usuarios y usuarias?"
   ]
  },
  {
   "cell_type": "code",
   "execution_count": 17,
   "metadata": {},
   "outputs": [
    {
     "name": "stdout",
     "output_type": "stream",
     "text": [
      "Perdida de A a B: 2826 usuarios\n",
      "Perdida de B a C: 864 usuarios\n",
      "La mayor pérdida de usuarios ocurre entre la etapa 1 y 2.\n"
     ]
    }
   ],
   "source": [
    "# Calcular las pérdidas de una etapa a otra\n",
    "perdidas = [num_usuarios_por_paso[i] - num_usuarios_por_paso[i + 1] for i in range(len(num_usuarios_por_paso) - 1)]\n",
    "\n",
    "# Identificar la etapa con la mayor pérdida\n",
    "mayor_perdida = max(perdidas)\n",
    "etapa_mayor_perdida = perdidas.index(mayor_perdida)\n",
    "\n",
    "# Imprimir los resultados\n",
    "print(f'Perdida de A a B: {perdidas[0]} usuarios')\n",
    "print(f'Perdida de B a C: {perdidas[1]} usuarios')\n",
    "print(f'La mayor pérdida de usuarios ocurre entre la etapa {etapa_mayor_perdida + 1} y {etapa_mayor_perdida + 2}.')"
   ]
  },
  {
   "cell_type": "markdown",
   "metadata": {},
   "source": [
    "Para mejorar la tasa de conversión general, es crucial enfocarse en la etapa entre A y B. Identificar y abordar las razones por las que los usuarios abandonan en esta fase puede ayudar a reducir la pérdida y aumentar el número de usuarios que avanzan a etapas posteriores. Las intervenciones podrían incluir mejoras en la experiencia de usuario, optimización del contenido o la interfaz, y resolución de posibles problemas técnicos."
   ]
  },
  {
   "cell_type": "markdown",
   "metadata": {},
   "source": [
    "##### 5.6 ¿Qué porcentaje de usuarios y usuarias hace todo el viaje desde su primer evento hasta el pago?"
   ]
  },
  {
   "cell_type": "code",
   "execution_count": 18,
   "metadata": {},
   "outputs": [
    {
     "name": "stdout",
     "output_type": "stream",
     "text": [
      "Porcentaje de usuarios que completan el viaje: 47.68%\n"
     ]
    }
   ],
   "source": [
    "# Número total de usuarios que empezaron el viaje\n",
    "usuarios_inicio = num_usuarios_por_paso[0]\n",
    "\n",
    "# Número de usuarios que completaron el viaje (llegaron a la etapa de pago)\n",
    "usuarios_pago = num_usuarios_por_paso[-2]\n",
    "\n",
    "# Calcular el porcentaje\n",
    "porcentaje_completan_viaje = (usuarios_pago / usuarios_inicio) * 100\n",
    "\n",
    "# Impresion de resultados\n",
    "print(f'Porcentaje de usuarios que completan el viaje: {porcentaje_completan_viaje:.2f}%')"
   ]
  },
  {
   "cell_type": "markdown",
   "metadata": {},
   "source": [
    "Un 47.68% de finalización indica que hay un margen considerable para optimizar el recorrido del usuario. Mejorar la experiencia de usuario en etapas críticas del embudo podría incrementar significativamente la conversión. Identificar y abordar las barreras que impiden a los usuarios completar el viaje es crucial para mejorar la efectividad de la aplicación y aumentar la satisfacción del usuario."
   ]
  },
  {
   "cell_type": "markdown",
   "metadata": {},
   "source": [
    "### 6. Estudiar los resultados del experimento"
   ]
  },
  {
   "cell_type": "markdown",
   "metadata": {},
   "source": [
    "##### 6.1 ¿Cuántos usuarios y usuarias hay en cada grupo?"
   ]
  },
  {
   "cell_type": "code",
   "execution_count": 19,
   "metadata": {},
   "outputs": [
    {
     "data": {
      "text/plain": [
       "Text(0.5, 1.0, 'Usuarios por grupo')"
      ]
     },
     "execution_count": 19,
     "metadata": {},
     "output_type": "execute_result"
    },
    {
     "data": {
      "image/png": "[encoded data removed]",
      "text/plain": [
       "<Figure size 640x480 with 1 Axes>"
      ]
     },
     "metadata": {},
     "output_type": "display_data"
    }
   ],
   "source": [
    "# Contar cuantos usuarios hay por grupo \n",
    "usuarios_por_grupo = logs_exp_us.groupby('exp_id')['device_id'].nunique().reset_index()\n",
    "\n",
    "# Se crea la grafica\n",
    "ax = sns.barplot(x='exp_id', y='device_id', data=usuarios_por_grupo)\n",
    "\n",
    "# Se agrega un titulo\n",
    "ax.set_title(\"Usuarios por grupo\")\n"
   ]
  },
  {
   "cell_type": "markdown",
   "metadata": {},
   "source": [
    "##### 6.2 Tenemos dos grupos de control en el test A/A, donde comprobamos nuestros mecanismos y cálculos. Observa si hay una diferencia estadísticamente significativa entre las muestras 246 y 247."
   ]
  },
  {
   "cell_type": "code",
   "execution_count": 20,
   "metadata": {},
   "outputs": [
    {
     "name": "stdout",
     "output_type": "stream",
     "text": [
      "No hay una diferencia estadísticamente significativa entre las muestras 246 y 247.\n"
     ]
    }
   ],
   "source": [
    "# Filtrar los grupos de control \n",
    "grupo_246 = logs_exp_us[logs_exp_us['exp_id'] == 246]\n",
    "grupo_247 = logs_exp_us[logs_exp_us['exp_id'] == 247]\n",
    "\n",
    "# Agrupar por device_id y contar el numero de eventos para cada dispositivo en el grupo 246\n",
    "eventos_246 = grupo_246.groupby('device_id')['event_name'].count()\n",
    "# Agrupar por device_id y contar el numero de eventos para cada dispositivo en el grupo 247\n",
    "eventos_247 = grupo_247.groupby('device_id')['event_name'].count()\n",
    "\n",
    "# Realizar la prueba t de Student\n",
    "t_stat, p_val = stats.ttest_ind(eventos_246, eventos_247)\n",
    "\n",
    "# Evaluar el resultado\n",
    "alpha = 0.05  # Nivel de significancia\n",
    "if p_val < alpha:\n",
    "    print('Hay una diferencia estadísticamente significativa entre las muestras 246 y 247.')\n",
    "else:\n",
    "    print('No hay una diferencia estadísticamente significativa entre las muestras 246 y 247.')"
   ]
  },
  {
   "cell_type": "markdown",
   "metadata": {},
   "source": [
    "##### 6.3 Selecciona el evento más popular. En cada uno de los grupos de control, encuentra la cantidad de usuarios y usuarias que realizaron esta acción. Encuentra su proporción. Comprueba si la diferencia entre los grupos es estadísticamente significativa. Repite el procedimiento para todos los demás eventos (ahorrarás tiempo si creas una función especial para esta prueba). ¿Puedes confirmar que los grupos se dividieron correctamente?"
   ]
  },
  {
   "cell_type": "code",
   "execution_count": 21,
   "metadata": {},
   "outputs": [
    {
     "name": "stdout",
     "output_type": "stream",
     "text": [
      "                    evento  proporcion_246  proporcion_247         p_val\n",
      "0         MainScreenAppear        0.986742        0.984921  2.842443e-05\n",
      "1  PaymentScreenSuccessful        0.482925        0.460317  6.208295e-03\n",
      "2         CartScreenAppear        0.510245        0.492063  4.096085e-05\n",
      "3       OffersScreenAppear        0.620731        0.607143  1.102540e-20\n",
      "4                 Tutorial        0.112093        0.113492  9.056465e-01\n"
     ]
    }
   ],
   "source": [
    "# Creacion de funcion para encontrar el evento mas popular, encontrar la proporcion y la direncia estadistica\n",
    "def analizar_eventos(df):\n",
    "    resultados = []\n",
    "    for evento in df['event_name'].unique():# Encontrar el evento más popular\n",
    "        event_data = df[df['event_name'] == evento] # Filtrado de eventos\n",
    "        usuarios_246 = event_data[event_data['exp_id'] == 246]['device_id'].nunique()# Calcular la cantidad de usuarios en cada grupo que realizaron el evento\n",
    "        usuarios_247 = event_data[event_data['exp_id'] == 247]['device_id'].nunique()\n",
    "        total_246 = df[df['exp_id'] == 246]['device_id'].nunique()# Calcular el total de usuarios en cada grupo\n",
    "        total_247 = df[df['exp_id'] == 247]['device_id'].nunique()\n",
    "\n",
    "        # Calcular la proporción\n",
    "        proporcion_246 = usuarios_246 / total_246\n",
    "        proporcion_247 = usuarios_247 / total_247\n",
    "        \n",
    "        # Encontrar la diferncia estadistica entre ambos grupos\n",
    "        t_stat, p_val = stats.ttest_ind(\n",
    "            event_data[event_data['exp_id'] == 246]['device_id'],\n",
    "            event_data[event_data['exp_id'] == 247]['device_id']\n",
    "        )\n",
    "\n",
    "        # Guardar los resultados\n",
    "        resultados.append({\n",
    "            'evento': evento,\n",
    "            'proporcion_246': proporcion_246,\n",
    "            'proporcion_247': proporcion_247,\n",
    "            'p_val': p_val\n",
    "        })\n",
    "    \n",
    "    return pd.DataFrame(resultados)\n",
    "\n",
    "# Analizar todos los eventos\n",
    "resultados_eventos = analizar_eventos(logs_exp_us)\n",
    "\n",
    "# Impresion de resultados\n",
    "print(resultados_eventos)\n"
   ]
  },
  {
   "cell_type": "markdown",
   "metadata": {},
   "source": [
    " Las diferencias significativas en eventos clave como la pantalla principal, el carrito y las compras exitosas indican que, aunque los grupos de control tienen proporciones similares en términos generales, existen variaciones notables en ciertos puntos del flujo de usuario. Este análisis resalta la importancia de revisar y entender las diferencias entre grupos, incluso en pruebas A/A, para asegurar la exactitud y la validez de las pruebas A/B futuras."
   ]
  },
  {
   "cell_type": "markdown",
   "metadata": {},
   "source": [
    "##### 6.4 Haz lo mismo para el grupo con fuentes alteradas. Compara los resultados con los de cada uno de los grupos de control para cada evento de forma aislada. Compara los resultados con los resultados combinados de los grupos de control. ¿Qué conclusiones puedes sacar del experimento?"
   ]
  },
  {
   "cell_type": "code",
   "execution_count": 33,
   "metadata": {},
   "outputs": [
    {
     "name": "stdout",
     "output_type": "stream",
     "text": [
      "                    evento  count_246  count_247  count_248         p_val\n",
      "0         CartScreenAppear      14798      12548      15322  3.073662e-09\n",
      "1         MainScreenAppear      38249      39677      41175  4.105906e-08\n",
      "2       OffersScreenAppear      14904      15341      16563  3.104986e-27\n",
      "3  PaymentScreenSuccessful      11912      10039      12167  1.681890e-07\n",
      "4                 Tutorial        318        345        355  7.872008e-01\n"
     ]
    }
   ],
   "source": [
    "# Crear la tabla pivote\n",
    "eventos = logs_exp_us.pivot_table(index='event_name', values='device_id', columns='exp_id', aggfunc='nunique')\n",
    "\n",
    "# Diccionario para guadar los resultados\n",
    "resultados = []\n",
    "\n",
    "for evento in eventos.index:\n",
    "    # Obtenemos los datos de cada grupo (deben ser arrays de valores)\n",
    "    count_246 = logs_exp_us[(logs_exp_us['exp_id'] == 246) & (logs_exp_us['event_name'] == evento)]['device_id']\n",
    "    count_247 = logs_exp_us[(logs_exp_us['exp_id'] == 247) & (logs_exp_us['event_name'] == evento)]['device_id']\n",
    "    count_248 = logs_exp_us[(logs_exp_us['exp_id'] == 248) & (logs_exp_us['event_name'] == evento)]['device_id']\n",
    "    \n",
    "    # Verificar si tenemos múltiples valores para cada grupo\n",
    "    if len(count_246) > 1 and len(count_247) > 1 and len(count_248) > 1:\n",
    "        # Realizar ANOVA para los tres grupos\n",
    "        f_stat, p_val = stats.f_oneway(count_246, count_247, count_248)\n",
    "    else:\n",
    "        f_stat, p_val = (None, None)  # No se puede realizar ANOVA con un solo valor por grupo\n",
    "    \n",
    "    resultados.append({\n",
    "        'evento': evento,\n",
    "        'count_246': len(count_246),\n",
    "        'count_247': len(count_247),\n",
    "        'count_248': len(count_248),\n",
    "        'p_val': p_val\n",
    "    })\n",
    "\n",
    "# Crear un DataFrame con los resultados\n",
    "resultados_df = pd.DataFrame(resultados)\n",
    "print(resultados_df)"
   ]
  },
  {
   "cell_type": "markdown",
   "metadata": {},
   "source": [
    "El grupo 248 muestra consistentemente el mayor número de usuarios en casi todas las etapas clave del embudo, indicando que el diseño o las fuentes nuevas podrían estar teniendo un impacto positivo. Sin embargo, es importante notar que el evento del tutorial no muestra diferencias significativas, lo que sugiere una experiencia de usuario consistente en ese aspecto específico."
   ]
  },
  {
   "cell_type": "markdown",
   "metadata": {},
   "source": [
    "##### 6.5 Utilizarás el mismo dataset para el análisis general y para el análisis A/A/B. En proyectos reales, los experimentos se llevan a cabo constantemente. El equipo de análisis estudia la calidad de una aplicación utilizando datos generales, sin prestar atención a si los usuarios y las usuarias participan en experimentos."
   ]
  },
  {
   "cell_type": "code",
   "execution_count": 34,
   "metadata": {},
   "outputs": [
    {
     "name": "stdout",
     "output_type": "stream",
     "text": [
      "Nivel de significancia ajustado: 0.02\n",
      "                    evento  count_246  count_247  count_248         p_val\n",
      "0         CartScreenAppear      14798      12548      15322  3.073662e-09\n",
      "1         MainScreenAppear      38249      39677      41175  4.105906e-08\n",
      "2       OffersScreenAppear      14904      15341      16563  3.104986e-27\n",
      "3  PaymentScreenSuccessful      11912      10039      12167  1.681890e-07\n",
      "4                 Tutorial        318        345        355  7.872008e-01\n"
     ]
    }
   ],
   "source": [
    "def analizar_eventos_completo(df, eventos, grupos_control, nivel_significancia):\n",
    "    resultados = []\n",
    "    for evento in eventos.index:\n",
    "        # Obtener datos para cada grupo\n",
    "        grupo_246 = df[(df['event_name'] == evento) & (df['exp_id'] == 246)]['device_id']\n",
    "        grupo_247 = df[(df['event_name'] == evento) & (df['exp_id'] == 247)]['device_id']\n",
    "        grupo_248 = df[(df['event_name'] == evento) & (df['exp_id'] == 248)]['device_id']\n",
    "        \n",
    "        if len(grupo_246) > 1 and len(grupo_247) > 1 and len(grupo_248) > 1:\n",
    "            # Realizar ANOVA para los tres grupos con arrays de valores\n",
    "            f_stat, p_val = stats.f_oneway(grupo_246, grupo_247, grupo_248)\n",
    "        else:\n",
    "            f_stat, p_val = (None, None)  # No se puede realizar ANOVA con arrays de un solo valor\n",
    "        \n",
    "        resultados.append({\n",
    "            'evento': evento,\n",
    "            'count_246': len(grupo_246),\n",
    "            'count_247': len(grupo_247),\n",
    "            'count_248': len(grupo_248),\n",
    "            'p_val': p_val\n",
    "        })\n",
    "    \n",
    "    return pd.DataFrame(resultados)\n",
    "\n",
    "# Establecer el nivel de significancia original y ajustado\n",
    "nivel_significancia_original = 0.1\n",
    "num_pruebas = len(eventos.index)\n",
    "nivel_significancia_ajustado = nivel_significancia_original / num_pruebas\n",
    "print(f'Nivel de significancia ajustado: {nivel_significancia_ajustado}')\n",
    "\n",
    "# Analizar todos los eventos con el nivel de significancia ajustado\n",
    "resultados_eventos = analizar_eventos_completo(logs_exp_us, eventos, [246, 247, 248], nivel_significancia_ajustado)\n",
    "print(resultados_eventos)"
   ]
  },
  {
   "cell_type": "markdown",
   "metadata": {},
   "source": [
    "Incluso con un nivel de significancia ajustado a 0.02, los eventos clave como agregar al carrito, ver la pantalla principal, ofertas y pagos exitosos muestran diferencias significativas entre los tres grupos, especialmente para el grupo 248, que consistentemente tiene más usuarios participando en estos eventos. Esto sugiere que las fuentes nuevas podrían estar teniendo un impacto positivo en la interacción del usuario. El evento tutorial sigue sin mostrar diferencias significativas, lo que indica consistencia en esa área."
   ]
  },
  {
   "cell_type": "markdown",
   "metadata": {},
   "source": [
    "# 7. Conclusión "
   ]
  },
  {
   "cell_type": "markdown",
   "metadata": {},
   "source": [
    "Periodo de datos y consistencia:\n",
    "\n",
    "Fechas: Los datos cubren desde el 1 de agosto de 2019 hasta el 7 de agosto de 2019. Tras analizar los eventos, se identificó que algunos datos más antiguos podrían no estar completos, lo que podría sesgar el análisis. Es crucial trabajar con los periodos donde la recolección de datos fue consistente.\n",
    "\n",
    "Eventos y usuarios:\n",
    "\n",
    "Eventos originales y filtrados: De 243,713 eventos y 7,551 usuarios originales, los datos filtrados muestran 240,887 eventos y 7,534 usuarios. Se perdieron 2,826 eventos y 17 usuarios, lo que subraya la importancia de revisar la integridad de los datos restantes.\n",
    "\n",
    "Distribución de usuarios por grupo (exp_id):\n",
    "\n",
    "Usuarios por grupo: Grupo 248 tiene 85,582 usuarios, grupo 246 tiene 80,181, y grupo 247 tiene 77,950. Aunque los tamaños de los grupos varían, estas diferencias deben ser consideradas en el análisis.\n",
    "\n",
    "Embudo de eventos:\n",
    "\n",
    "Eventos principales: MainScreenAppear es el evento más frecuente (7,439 usuarios), seguido por OffersScreenAppear, CartScreenAppear, y PaymentScreenSuccessful. La mayor caída se observa entre la pantalla principal y la exploración de ofertas.\n",
    "\n",
    "Proporciones: El evento MainScreenAppear tiene la mayor proporción de interacción, seguido por otros eventos clave, y el tutorial tiene la menor proporción.\n",
    "\n",
    "Pérdidas de usuarios en el embudo:\n",
    "\n",
    "La mayor pérdida de usuarios ocurre entre la etapa 1 (A) y la etapa 2 (B) con 2,826 usuarios, mientras que la pérdida de B a C es menor (864 usuarios). Esto indica la necesidad de optimizar la etapa crítica entre A y B.\n",
    "\n",
    "Porcentaje de usuarios que completan el viaje:\n",
    "\n",
    "Tasa de finalización: 47.68% de los usuarios completan el viaje completo desde el primer evento hasta el pago. Esto sugiere un margen considerable para mejorar la tasa de conversión.\n",
    "\n",
    "Análisis de pruebas A/A/B:\n",
    "\n",
    "**Eventos como MainScreenAppear, CartScreenAppear, PaymentScreenSuccessful y OffersScreenAppear muestran diferencias significativas en las proporciones de usuarios entre los grupos. El grupo 248 consistentemente muestra una mayor interacción en estos eventos.\n",
    "\n",
    "Nivel de significancia ajustado: Con un nivel ajustado de 0.02, las diferencias en eventos clave siguen siendo estadísticamente significativas, reforzando la validez de las observaciones.\n",
    "\n",
    "El análisis detallado revela puntos clave donde la optimización puede mejorar significativamente la experiencia y conversión del usuario. Las diferencias entre los grupos de control y el grupo de prueba indican que el nuevo diseño (grupo 248) podría tener un impacto positivo en la interacción del usuario. Además, asegurar la integridad de los datos y optimizar las etapas críticas del embudo es esencial para mejorar los resultados generales"
   ]
  }
 ],
 "metadata": {
  "kernelspec": {
   "display_name": "myenv",
   "language": "python",
   "name": "python3"
  },
  "language_info": {
   "codemirror_mode": {
    "name": "ipython",
    "version": 3
   },
   "file_extension": ".py",
   "mimetype": "text/x-python",
   "name": "python",
   "nbconvert_exporter": "python",
   "pygments_lexer": "ipython3",
   "version": "3.12.4"
  }
 },
 "nbformat": 4,
 "nbformat_minor": 2
}
